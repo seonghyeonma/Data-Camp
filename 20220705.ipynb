{
 "cells": [
  {
   "cell_type": "code",
   "execution_count": 7,
   "id": "ebcdef96",
   "metadata": {
    "scrolled": false
   },
   "outputs": [
    {
     "data": {
      "image/png": "[encoded data removed]",
      "text/plain": [
       "<Figure size 432x288 with 1 Axes>"
      ]
     },
     "metadata": {
      "needs_background": "light"
     },
     "output_type": "display_data"
    }
   ],
   "source": [
    "import pandas as pd\n",
    "import numpy as np \n",
    "import csv \n",
    "import matplotlib.pyplot as plt\n",
    "\n",
    "f = open('data/seoul.csv',encoding='cp949')\n",
    "data = csv.reader(f)\n",
    "next(data)\n",
    "result = []\n",
    "\n",
    "for row in data:\n",
    "    if row[-1] != '':\n",
    "        result.append(float(row[-1]))\n",
    "\n",
    "plt.hist(result,bins=100,color='r')\n",
    "plt.show()"
   ]
  },
  {
   "cell_type": "code",
   "execution_count": 26,
   "id": "f98c5367",
   "metadata": {},
   "outputs": [
    {
     "data": {
      "text/plain": [
       "{'whiskers': [<matplotlib.lines.Line2D at 0x7fefaa7d75e0>,\n",
       "  <matplotlib.lines.Line2D at 0x7fefaa7d7970>],\n",
       " 'caps': [<matplotlib.lines.Line2D at 0x7fefaa7d7d00>,\n",
       "  <matplotlib.lines.Line2D at 0x7fefaa9200d0>],\n",
       " 'boxes': [<matplotlib.lines.Line2D at 0x7fefaa7d7370>],\n",
       " 'medians': [<matplotlib.lines.Line2D at 0x7fefaa920460>],\n",
       " 'fliers': [<matplotlib.lines.Line2D at 0x7fefaa9207f0>],\n",
       " 'means': []}"
      ]
     },
     "execution_count": 26,
     "metadata": {},
     "output_type": "execute_result"
    },
    {
     "data": {
      "image/png": "[encoded data removed]",
      "text/plain": [
       "<Figure size 432x288 with 1 Axes>"
      ]
     },
     "metadata": {
      "needs_background": "light"
     },
     "output_type": "display_data"
    }
   ],
   "source": [
    "plt.boxplot(result)"
   ]
  },
  {
   "cell_type": "code",
   "execution_count": 10,
   "id": "ec93d876",
   "metadata": {
    "scrolled": false
   },
   "outputs": [
    {
     "data": {
      "image/png": "[encoded data removed]",
      "text/plain": [
       "<Figure size 432x288 with 1 Axes>"
      ]
     },
     "metadata": {
      "needs_background": "light"
     },
     "output_type": "display_data"
    }
   ],
   "source": [
    "#8월의 기운만 가져오기\n",
    "\n",
    "import pandas as pd\n",
    "import numpy as np \n",
    "import csv \n",
    "import matplotlib.pyplot as plt\n",
    "\n",
    "f = open('data/seoul.csv',encoding='cp949')\n",
    "data = csv.reader(f)\n",
    "next(data)\n",
    "result = []\n",
    "\n",
    "for row in data:\n",
    "    if row[-1] != '':\n",
    "        if row[0].split('-')[1]=='08':\n",
    "            result.append(float(row[-1]))\n",
    "\n",
    "plt.hist(result,bins=100,color='b')\n",
    "plt.show()"
   ]
  },
  {
   "cell_type": "code",
   "execution_count": 18,
   "id": "f3b2b8ec",
   "metadata": {},
   "outputs": [
    {
     "data": {
      "image/png": "[encoded data removed]",
      "text/plain": [
       "<Figure size 432x288 with 1 Axes>"
      ]
     },
     "metadata": {
      "needs_background": "light"
     },
     "output_type": "display_data"
    }
   ],
   "source": [
    "#8월의 기온만 가져오기 2\n",
    "import pandas as pd\n",
    "import numpy as np \n",
    "import csv \n",
    "import matplotlib.pyplot as plt\n",
    "\n",
    "f = open('data/seoul.csv',encoding='cp949')\n",
    "data = csv.reader(f)\n",
    "next(data)\n",
    "result = []\n",
    "\n",
    "for row in data:\n",
    "    mount=row[0].split('-')[1]\n",
    "    if row[-1] != '':\n",
    "        if mount =='08':\n",
    "            result.append(float(row[-1]))\n",
    "\n",
    "plt.hist(result,bins=100,color='lightblue')\n",
    "plt.show()"
   ]
  },
  {
   "cell_type": "code",
   "execution_count": 16,
   "id": "7e2cda01",
   "metadata": {
    "scrolled": false
   },
   "outputs": [
    {
     "data": {
      "image/png": "[encoded data removed]",
      "text/plain": [
       "<Figure size 432x288 with 1 Axes>"
      ]
     },
     "metadata": {
      "needs_background": "light"
     },
     "output_type": "display_data"
    }
   ],
   "source": [
    "#1월 8월의 기온만 가져오기\n",
    "\n",
    "import pandas as pd\n",
    "import numpy as np \n",
    "import csv \n",
    "import matplotlib.pyplot as plt\n",
    "\n",
    "f = open('data/seoul.csv',encoding='cp949')\n",
    "data = csv.reader(f)\n",
    "next(data)\n",
    "jan=[]\n",
    "aug=[]\n",
    "\n",
    "for row in data :\n",
    "    month = row[0].split('-')[1]  \n",
    "    if row[-1] != '' :\n",
    "        if month == '08':               \n",
    "            aug.append(float(row[-1]))  \n",
    "        if month == '01':               \n",
    "            jan.append(float(row[-1]))  \n",
    "            \n",
    "plt.hist(aug, bins=100, color ='r', label='Aug')\n",
    "plt.hist(jan, bins=100, color ='b', label='Jan')\n",
    "plt.legend()\n",
    "plt.show()"
   ]
  },
  {
   "cell_type": "code",
   "execution_count": 28,
   "id": "279591a7",
   "metadata": {
    "scrolled": true
   },
   "outputs": [
    {
     "data": {
      "text/plain": [
       "{'whiskers': [<matplotlib.lines.Line2D at 0x7fefaab8e400>,\n",
       "  <matplotlib.lines.Line2D at 0x7fefaab8e790>,\n",
       "  <matplotlib.lines.Line2D at 0x7fefaab97d60>,\n",
       "  <matplotlib.lines.Line2D at 0x7fefaab86130>,\n",
       "  <matplotlib.lines.Line2D at 0x7fefaab8b7f0>,\n",
       "  <matplotlib.lines.Line2D at 0x7fefaab8ba60>,\n",
       "  <matplotlib.lines.Line2D at 0x7fef98839040>,\n",
       "  <matplotlib.lines.Line2D at 0x7fef988393d0>,\n",
       "  <matplotlib.lines.Line2D at 0x7fef98851970>,\n",
       "  <matplotlib.lines.Line2D at 0x7fef98851d00>,\n",
       "  <matplotlib.lines.Line2D at 0x7fef9882b2e0>,\n",
       "  <matplotlib.lines.Line2D at 0x7fef9882b670>,\n",
       "  <matplotlib.lines.Line2D at 0x7fef9878bc10>,\n",
       "  <matplotlib.lines.Line2D at 0x7fef9878bfa0>,\n",
       "  <matplotlib.lines.Line2D at 0x7fef987ac580>,\n",
       "  <matplotlib.lines.Line2D at 0x7fef987ac910>,\n",
       "  <matplotlib.lines.Line2D at 0x7fef98799d90>,\n",
       "  <matplotlib.lines.Line2D at 0x7fefaab5d160>,\n",
       "  <matplotlib.lines.Line2D at 0x7fefaab3e700>,\n",
       "  <matplotlib.lines.Line2D at 0x7fefaab3ea90>,\n",
       "  <matplotlib.lines.Line2D at 0x7fefaab61070>,\n",
       "  <matplotlib.lines.Line2D at 0x7fefaab61400>],\n",
       " 'caps': [<matplotlib.lines.Line2D at 0x7fefaab8eb20>,\n",
       "  <matplotlib.lines.Line2D at 0x7fefaab8eee0>,\n",
       "  <matplotlib.lines.Line2D at 0x7fefaab864c0>,\n",
       "  <matplotlib.lines.Line2D at 0x7fefaab86850>,\n",
       "  <matplotlib.lines.Line2D at 0x7fefaab8bb20>,\n",
       "  <matplotlib.lines.Line2D at 0x7fef9884e1c0>,\n",
       "  <matplotlib.lines.Line2D at 0x7fef98839760>,\n",
       "  <matplotlib.lines.Line2D at 0x7fef98839af0>,\n",
       "  <matplotlib.lines.Line2D at 0x7fef988650d0>,\n",
       "  <matplotlib.lines.Line2D at 0x7fef98865460>,\n",
       "  <matplotlib.lines.Line2D at 0x7fef9882ba00>,\n",
       "  <matplotlib.lines.Line2D at 0x7fef9882bd90>,\n",
       "  <matplotlib.lines.Line2D at 0x7fef987bf370>,\n",
       "  <matplotlib.lines.Line2D at 0x7fef987bf700>,\n",
       "  <matplotlib.lines.Line2D at 0x7fef987acca0>,\n",
       "  <matplotlib.lines.Line2D at 0x7fef98799070>,\n",
       "  <matplotlib.lines.Line2D at 0x7fefaab5d4f0>,\n",
       "  <matplotlib.lines.Line2D at 0x7fefaab5d880>,\n",
       "  <matplotlib.lines.Line2D at 0x7fefaab3ee20>,\n",
       "  <matplotlib.lines.Line2D at 0x7fefaab381f0>,\n",
       "  <matplotlib.lines.Line2D at 0x7fefaab61790>,\n",
       "  <matplotlib.lines.Line2D at 0x7fefaab61b20>],\n",
       " 'boxes': [<matplotlib.lines.Line2D at 0x7fefaab8e190>,\n",
       "  <matplotlib.lines.Line2D at 0x7fefaab979d0>,\n",
       "  <matplotlib.lines.Line2D at 0x7fefaab8b280>,\n",
       "  <matplotlib.lines.Line2D at 0x7fef9884ec70>,\n",
       "  <matplotlib.lines.Line2D at 0x7fef988515e0>,\n",
       "  <matplotlib.lines.Line2D at 0x7fef98865f10>,\n",
       "  <matplotlib.lines.Line2D at 0x7fef9878b880>,\n",
       "  <matplotlib.lines.Line2D at 0x7fef987ac1f0>,\n",
       "  <matplotlib.lines.Line2D at 0x7fef98799a00>,\n",
       "  <matplotlib.lines.Line2D at 0x7fefaab3e370>,\n",
       "  <matplotlib.lines.Line2D at 0x7fefaab38ca0>],\n",
       " 'medians': [<matplotlib.lines.Line2D at 0x7fefaab972b0>,\n",
       "  <matplotlib.lines.Line2D at 0x7fefaab86be0>,\n",
       "  <matplotlib.lines.Line2D at 0x7fef9884e550>,\n",
       "  <matplotlib.lines.Line2D at 0x7fef98839e80>,\n",
       "  <matplotlib.lines.Line2D at 0x7fef988657f0>,\n",
       "  <matplotlib.lines.Line2D at 0x7fef9878b160>,\n",
       "  <matplotlib.lines.Line2D at 0x7fef987bfa90>,\n",
       "  <matplotlib.lines.Line2D at 0x7fef98799400>,\n",
       "  <matplotlib.lines.Line2D at 0x7fefaab5dc10>,\n",
       "  <matplotlib.lines.Line2D at 0x7fefaab38580>,\n",
       "  <matplotlib.lines.Line2D at 0x7fefaab61eb0>],\n",
       " 'fliers': [<matplotlib.lines.Line2D at 0x7fefaab97640>,\n",
       "  <matplotlib.lines.Line2D at 0x7fefaab86f70>,\n",
       "  <matplotlib.lines.Line2D at 0x7fef9884e8e0>,\n",
       "  <matplotlib.lines.Line2D at 0x7fef98851250>,\n",
       "  <matplotlib.lines.Line2D at 0x7fef98865b80>,\n",
       "  <matplotlib.lines.Line2D at 0x7fef9878b4f0>,\n",
       "  <matplotlib.lines.Line2D at 0x7fef987bfe20>,\n",
       "  <matplotlib.lines.Line2D at 0x7fef98799790>,\n",
       "  <matplotlib.lines.Line2D at 0x7fefaab5dfa0>,\n",
       "  <matplotlib.lines.Line2D at 0x7fefaab38910>,\n",
       "  <matplotlib.lines.Line2D at 0x7fefaab4f190>],\n",
       " 'means': []}"
      ]
     },
     "execution_count": 28,
     "metadata": {},
     "output_type": "execute_result"
    },
    {
     "data": {
      "image/png": "[encoded data removed]",
      "text/plain": [
       "<Figure size 432x288 with 1 Axes>"
      ]
     },
     "metadata": {
      "needs_background": "light"
     },
     "output_type": "display_data"
    }
   ],
   "source": [
    "#1월 8월의 기온만 가져오기\n",
    "\n",
    "import pandas as pd\n",
    "import numpy as np \n",
    "import csv \n",
    "import matplotlib.pyplot as plt\n",
    "\n",
    "f = open('data/seoul.csv',encoding='cp949')\n",
    "data = csv.reader(f)\n",
    "next(data)\n",
    "jan=[]\n",
    "feb=[]\n",
    "mar=[]\n",
    "apr=[]\n",
    "may=[]\n",
    "jun=[]\n",
    "jul=[]\n",
    "aug=[]\n",
    "sep=[]\n",
    "oct=[]\n",
    "nov=[]\n",
    "dec=[]\n",
    "\n",
    "for row in data :\n",
    "    month = row[0].split('-')[1]  \n",
    "    if row[-1] != '' :\n",
    "        if month == '01':               \n",
    "            jan.append(float(row[-1]))  \n",
    "        if month == '02':               \n",
    "            feb.append(float(row[-1]))\n",
    "        if month == '03':               \n",
    "            mar.append(float(row[-1]))\n",
    "        if month == '04':               \n",
    "            apr.append(float(row[-1]))\n",
    "        if month == '05':               \n",
    "            may.append(float(row[-1]))\n",
    "        if month == '06':               \n",
    "            jun.append(float(row[-1]))\n",
    "        if month == '07':               \n",
    "            jul.append(float(row[-1]))\n",
    "        if month == '08':               \n",
    "            aug.append(float(row[-1]))\n",
    "        if month == '09':               \n",
    "            sep.append(float(row[-1]))\n",
    "        if month == '10':               \n",
    "            oct.append(float(row[-1]))\n",
    "        if month == '11':               \n",
    "            nov.append(float(row[-1]))\n",
    "        if month == '12':               \n",
    "            dec.append(float(row[-1]))\n",
    "\n",
    "plt.boxplot([jan,feb,mar,apr,may,jun,jul,aug,sep,oct,nov])\n"
   ]
  },
  {
   "cell_type": "code",
   "execution_count": 25,
   "id": "a1e860b0",
   "metadata": {},
   "outputs": [
    {
     "name": "stdout",
     "output_type": "stream",
     "text": [
      "[5, 98, 163, 301, 318, 426, 451, 562, 573, 600, 929, 933, 936]\n"
     ]
    },
    {
     "data": {
      "text/plain": [
       "<function matplotlib.pyplot.show(close=None, block=None)>"
      ]
     },
     "execution_count": 25,
     "metadata": {},
     "output_type": "execute_result"
    },
    {
     "data": {
      "image/png": "[encoded data removed]",
      "text/plain": [
       "<Figure size 432x288 with 1 Axes>"
      ]
     },
     "metadata": {
      "needs_background": "light"
     },
     "output_type": "display_data"
    }
   ],
   "source": [
    "#boxplot \n",
    "\n",
    "import random\n",
    "result = []\n",
    "for i in range(13):\n",
    "    result.append(random.randint(1,1000))\n",
    "print(sorted(result))\n",
    "\n",
    "import numpy as np \n",
    "result = np.array(result)\n",
    "\n",
    "\"1/4:\"+str(np.percentile(result,25))\n",
    "\"2/4:\"+str(np.percentile(result,50))\n",
    "\"3/4:\"+str(np.percentile(result,75))\n",
    "plt.boxplot(result)\n",
    "plt.show\n"
   ]
  },
  {
   "cell_type": "code",
   "execution_count": 34,
   "id": "45ad6888",
   "metadata": {
    "scrolled": true
   },
   "outputs": [
    {
     "name": "stdout",
     "output_type": "stream",
     "text": [
      "['서울특별시 구로구 신도림동(1153051000)', '37,268', '37,268', '326', '334', '406', '413', '389', '408', '417', '434', '411', '387', '420', '383', '354', '357', '340', '338', '349', '339', '407', '380', '390', '453', '424', '516', '451', '466', '448', '484', '471', '476', '558', '541', '579', '619', '638', '740', '756', '792', '745', '789', '671', '687', '700', '636', '726', '691', '657', '619', '649', '585', '579', '470', '522', '534', '563', '445', '511', '569', '572', '513', '532', '456', '426', '497', '379', '384', '399', '279', '289', '276', '268', '271', '223', '170', '150', '154', '177', '140', '126', '114', '121', '97', '86', '80', '59', '48', '44', '43', '28', '29', '22', '15', '13', '12', '5', '8', '5', '4', '2', '3', '7']\n"
     ]
    }
   ],
   "source": [
    "#age 인구 시각화 \n",
    "\n",
    "f = open('data/age.csv',encoding='cp949')\n",
    "data = csv.reader(f)\n",
    "\n",
    "for row in data:\n",
    "    if '신도림' in row[0]:\n",
    "        print(row)"
   ]
  },
  {
   "cell_type": "code",
   "execution_count": 44,
   "id": "4b4a399e",
   "metadata": {},
   "outputs": [
    {
     "name": "stdout",
     "output_type": "stream",
     "text": [
      "[326, 334, 406, 413, 389, 408, 417, 434, 411, 387, 420, 383, 354, 357, 340, 338, 349, 339, 407, 380, 390, 453, 424, 516, 451, 466, 448, 484, 471, 476, 558, 541, 579, 619, 638, 740, 756, 792, 745, 789, 671, 687, 700, 636, 726, 691, 657, 619, 649, 585, 579, 470, 522, 534, 563, 445, 511, 569, 572, 513, 532, 456, 426, 497, 379, 384, 399, 279, 289, 276, 268, 271, 223, 170, 150, 154, 177, 140, 126, 114, 121, 97, 86, 80, 59, 48, 44, 43, 28, 29, 22, 15, 13, 12, 5, 8, 5, 4, 2, 3, 7]\n"
     ]
    }
   ],
   "source": [
    "#동네 연령별 인구수 출력하기\n",
    "f = open('data/age.csv',encoding='cp949')\n",
    "data = csv.reader(f)\n",
    "result=[]\n",
    "\n",
    "for row in data:\n",
    "    if '신도림' in row[0]:\n",
    "        for i in row[3:]:\n",
    "            result.append(int(i))  \n",
    "\n",
    "print(result)"
   ]
  },
  {
   "cell_type": "code",
   "execution_count": 55,
   "id": "4856d071",
   "metadata": {},
   "outputs": [
    {
     "data": {
      "text/plain": [
       "[<matplotlib.lines.Line2D at 0x7fefab1ebcd0>]"
      ]
     },
     "execution_count": 55,
     "metadata": {},
     "output_type": "execute_result"
    },
    {
     "data": {
      "image/png": "[encoded data removed]",
      "text/plain": [
       "<Figure size 432x288 with 1 Axes>"
      ]
     },
     "metadata": {},
     "output_type": "display_data"
    }
   ],
   "source": [
    "#동네 연령별 인구수 시각화 출력\n",
    "f = open('data/age.csv',encoding='cp949')\n",
    "data = csv.reader(f)\n",
    "result=[]\n",
    "\n",
    "for row in data:\n",
    "    if '신도림' in row[0]:\n",
    "        for i in row[3:]:\n",
    "            result.append(int(i))  \n",
    "            \n",
    "plt.style.use('ggplot')       \n",
    "plt.plot(result,color='darkgreen')"
   ]
  },
  {
   "cell_type": "code",
   "execution_count": 67,
   "id": "d1a1f483",
   "metadata": {},
   "outputs": [
    {
     "name": "stdout",
     "output_type": "stream",
     "text": [
      "인구 구조가 알고 싶은 지역의 읍면동을 입력해주세요:압구정동\n"
     ]
    },
    {
     "data": {
      "text/plain": [
       "[<matplotlib.lines.Line2D at 0x7fefaa741880>]"
      ]
     },
     "execution_count": 67,
     "metadata": {},
     "output_type": "execute_result"
    },
    {
     "data": {
      "image/png": "[encoded data removed]",
      "text/plain": [
       "<Figure size 432x288 with 1 Axes>"
      ]
     },
     "metadata": {},
     "output_type": "display_data"
    }
   ],
   "source": [
    "#동네 연령별 인구수 시각화 출력\n",
    "f = open('data/age.csv',encoding='cp949')\n",
    "data = csv.reader(f)\n",
    "dong = input('인구 구조가 알고 싶은 지역의 읍면동을 입력해주세요:')\n",
    "result=[]\n",
    "\n",
    "for row in data:\n",
    "    if dong in row[0]:\n",
    "        for i in row[3:]:\n",
    "            result.append(int(i))  \n",
    "            \n",
    "plt.style.use('ggplot')       \n",
    "plt.plot(result,color='black')"
   ]
  },
  {
   "cell_type": "code",
   "execution_count": 66,
   "id": "d7679773",
   "metadata": {},
   "outputs": [
    {
     "data": {
      "image/png": "[encoded data removed]",
      "text/plain": [
       "<Figure size 432x288 with 1 Axes>"
      ]
     },
     "metadata": {},
     "output_type": "display_data"
    }
   ],
   "source": [
    "plt.bar(range(6),[1,2,3,4,5,6])\n",
    "plt.show()"
   ]
  },
  {
   "cell_type": "code",
   "execution_count": 85,
   "id": "437e5921",
   "metadata": {},
   "outputs": [
    {
     "data": {
      "image/png": "[encoded data removed]",
      "text/plain": [
       "<Figure size 432x288 with 1 Axes>"
      ]
     },
     "metadata": {},
     "output_type": "display_data"
    }
   ],
   "source": [
    "#동네 연령별 인구수 시각화 출력 2\n",
    "f = open('data/age.csv',encoding='cp949')\n",
    "data = csv.reader(f)\n",
    "result=[]\n",
    "\n",
    "for row in data:\n",
    "    if '신도림' in row[0]:\n",
    "        for i in row[3:]:\n",
    "            result.append(int(i))  \n",
    "            \n",
    "plt.bar(range(101),result,color=['plum'])\n",
    "plt.show()"
   ]
  },
  {
   "cell_type": "code",
   "execution_count": 79,
   "id": "705617b9",
   "metadata": {},
   "outputs": [
    {
     "data": {
      "text/plain": [
       "<BarContainer object of 101 artists>"
      ]
     },
     "execution_count": 79,
     "metadata": {},
     "output_type": "execute_result"
    },
    {
     "data": {
      "image/png": "[encoded data removed]",
      "text/plain": [
       "<Figure size 432x288 with 1 Axes>"
      ]
     },
     "metadata": {},
     "output_type": "display_data"
    }
   ],
   "source": [
    "#바그래프 x-y 반대로 그리기\n",
    "plt.barh(range(101),result)"
   ]
  },
  {
   "cell_type": "code",
   "execution_count": 127,
   "id": "b6671f09",
   "metadata": {},
   "outputs": [
    {
     "data": {
      "image/png": "[encoded data removed]",
      "text/plain": [
       "<Figure size 432x288 with 1 Axes>"
      ]
     },
     "metadata": {},
     "output_type": "display_data"
    }
   ],
   "source": [
    "#항아리 모양 그래프 그리기\n",
    "f = open('data/gender.csv',encoding='cp949')\n",
    "data = csv.reader(f)\n",
    "\n",
    "m = []\n",
    "f = []\n",
    "for row in data:\n",
    "    if '신도림' in row[0]:\n",
    "        for i in row[3:104]:\n",
    "            m.append(-int(i))\n",
    "        for i in row[106:]:\n",
    "            f.append(int(i))\n",
    "\n",
    "plt.barh(range(101),m,label=\"남성\")\n",
    "plt.barh(range(101),f,label=\"여성\")\n",
    "plt.rc('font', family='AppleGothic')\n",
    "plt.rcParams['axes.unicode_minus']=False\n",
    "plt.title('신도림 지역의 남녀 성별 인구 분포')\n",
    "plt.legend()\n",
    "plt.show()"
   ]
  },
  {
   "cell_type": "code",
   "execution_count": 135,
   "id": "c49e762a",
   "metadata": {},
   "outputs": [
    {
     "name": "stdout",
     "output_type": "stream",
     "text": [
      "찾고 싶은 지역의 이름을 알려주세요:도담동\n"
     ]
    },
    {
     "data": {
      "image/png": "[encoded data removed]",
      "text/plain": [
       "<Figure size 432x288 with 1 Axes>"
      ]
     },
     "metadata": {},
     "output_type": "display_data"
    }
   ],
   "source": [
    "#입력받은 항아리 모양 그래프 그리기\n",
    "f = open('data/gender.csv',encoding='cp949')\n",
    "data = csv.reader(f)\n",
    "\n",
    "m = []\n",
    "f = []\n",
    "dong = input('찾고 싶은 지역의 이름을 알려주세요:')\n",
    "for row in data:\n",
    "    if dong in row[0]:\n",
    "        for i in row[3:104]:\n",
    "            m.append(-int(i))\n",
    "        for i in row[106:]:\n",
    "            f.append(int(i))\n",
    "\n",
    "plt.barh(range(101),m,label=\"남성\")\n",
    "plt.barh(range(101),f,label=\"여성\")\n",
    "plt.rc('font', family='AppleGothic')\n",
    "plt.rcParams['axes.unicode_minus']=False\n",
    "plt.title(dong+' '+'지역의 남녀 성별 인구 분포')\n",
    "plt.legend()\n",
    "plt.show()"
   ]
  },
  {
   "cell_type": "code",
   "execution_count": 147,
   "id": "1396a849",
   "metadata": {},
   "outputs": [
    {
     "data": {
      "image/png": "[encoded data removed]",
      "text/plain": [
       "<Figure size 432x288 with 1 Axes>"
      ]
     },
     "metadata": {},
     "output_type": "display_data"
    }
   ],
   "source": [
    "#동그란 원으로 표현하기 \n",
    "plt.rc('font', family='AppleGothic')\n",
    "size = [1234,3456,6789,5977]\n",
    "label=['A','B','O','AB']\n",
    "color = ['darkmagenta','deeppink','hotpink','pink']\n",
    "plt.axis('equal') #원 사이즈 균일화\n",
    "plt.pie(size, labels=label,autopct='%.1f%%',colors=color,explode=(0,0,0.04,0)) #autopct='%.1f%% 퍼센트 표시\n",
    "plt.legend()\n",
    "plt.show()"
   ]
  },
  {
   "cell_type": "code",
   "execution_count": 151,
   "id": "39f56d12",
   "metadata": {
    "scrolled": true
   },
   "outputs": [
    {
     "name": "stdout",
     "output_type": "stream",
     "text": [
      "찾고 싶은 지역의 이름을 알려주세요:제주특별자치도\n",
      "[2115, 2024]\n"
     ]
    }
   ],
   "source": [
    "#제주도의 성별 인구 비율 표현하기 \n",
    "\n",
    "f = open('data/gender.csv',encoding='cp949')\n",
    "data = csv.reader(f)\n",
    "\n",
    "size=[]\n",
    "m = []\n",
    "f = []\n",
    "dong = input('찾고 싶은 지역의 이름을 알려주세요:')\n",
    "\n",
    "if dong in row[0]:\n",
    "        m=0\n",
    "        f=0\n",
    "        for i in range(101):\n",
    "            m+=int(row[i+3]) #3~103까지 데이터 더하기\n",
    "            f+=int(row[i+106])#106~206까지 데이터 더하기\n",
    "\n",
    "size.append(m)\n",
    "size.append(f)\n",
    "print(size)"
   ]
  },
  {
   "cell_type": "markdown",
   "id": "5507f13a",
   "metadata": {},
   "source": [
    "### 2022-0705 실습"
   ]
  },
  {
   "cell_type": "code",
   "execution_count": 174,
   "id": "f711bafa",
   "metadata": {},
   "outputs": [
    {
     "data": {
      "text/html": [
       "<div>\n",
       "<style scoped>\n",
       "    .dataframe tbody tr th:only-of-type {\n",
       "        vertical-align: middle;\n",
       "    }\n",
       "\n",
       "    .dataframe tbody tr th {\n",
       "        vertical-align: top;\n",
       "    }\n",
       "\n",
       "    .dataframe thead th {\n",
       "        text-align: right;\n",
       "    }\n",
       "</style>\n",
       "<table border=\"1\" class=\"dataframe\">\n",
       "  <thead>\n",
       "    <tr style=\"text-align: right;\">\n",
       "      <th></th>\n",
       "      <th>사용월</th>\n",
       "      <th>호선명</th>\n",
       "      <th>역ID</th>\n",
       "      <th>지하철역</th>\n",
       "      <th>유임승차</th>\n",
       "      <th>유임하차</th>\n",
       "      <th>무임승차</th>\n",
       "      <th>무임하차</th>\n",
       "    </tr>\n",
       "  </thead>\n",
       "  <tbody>\n",
       "    <tr>\n",
       "      <th>0</th>\n",
       "      <td>2019-01</td>\n",
       "      <td>1호선</td>\n",
       "      <td>150</td>\n",
       "      <td>서울역</td>\n",
       "      <td>1516452</td>\n",
       "      <td>1400464</td>\n",
       "      <td>221180</td>\n",
       "      <td>211764</td>\n",
       "    </tr>\n",
       "    <tr>\n",
       "      <th>1</th>\n",
       "      <td>2019-01</td>\n",
       "      <td>1호선</td>\n",
       "      <td>151</td>\n",
       "      <td>시청</td>\n",
       "      <td>676932</td>\n",
       "      <td>676266</td>\n",
       "      <td>102388</td>\n",
       "      <td>101033</td>\n",
       "    </tr>\n",
       "    <tr>\n",
       "      <th>2</th>\n",
       "      <td>2019-01</td>\n",
       "      <td>1호선</td>\n",
       "      <td>152</td>\n",
       "      <td>종각</td>\n",
       "      <td>1240810</td>\n",
       "      <td>1177643</td>\n",
       "      <td>162410</td>\n",
       "      <td>152062</td>\n",
       "    </tr>\n",
       "    <tr>\n",
       "      <th>3</th>\n",
       "      <td>2019-01</td>\n",
       "      <td>1호선</td>\n",
       "      <td>153</td>\n",
       "      <td>종로3가</td>\n",
       "      <td>703110</td>\n",
       "      <td>674148</td>\n",
       "      <td>387062</td>\n",
       "      <td>362735</td>\n",
       "    </tr>\n",
       "    <tr>\n",
       "      <th>4</th>\n",
       "      <td>2019-01</td>\n",
       "      <td>1호선</td>\n",
       "      <td>154</td>\n",
       "      <td>종로5가</td>\n",
       "      <td>571824</td>\n",
       "      <td>583955</td>\n",
       "      <td>275447</td>\n",
       "      <td>263687</td>\n",
       "    </tr>\n",
       "    <tr>\n",
       "      <th>...</th>\n",
       "      <td>...</td>\n",
       "      <td>...</td>\n",
       "      <td>...</td>\n",
       "      <td>...</td>\n",
       "      <td>...</td>\n",
       "      <td>...</td>\n",
       "      <td>...</td>\n",
       "      <td>...</td>\n",
       "    </tr>\n",
       "    <tr>\n",
       "      <th>593</th>\n",
       "      <td>2019-01</td>\n",
       "      <td>우이신설선</td>\n",
       "      <td>4709</td>\n",
       "      <td>북한산보국문</td>\n",
       "      <td>131839</td>\n",
       "      <td>117790</td>\n",
       "      <td>40396</td>\n",
       "      <td>40629</td>\n",
       "    </tr>\n",
       "    <tr>\n",
       "      <th>594</th>\n",
       "      <td>2019-01</td>\n",
       "      <td>우이신설선</td>\n",
       "      <td>4710</td>\n",
       "      <td>정릉</td>\n",
       "      <td>83527</td>\n",
       "      <td>73090</td>\n",
       "      <td>43457</td>\n",
       "      <td>41092</td>\n",
       "    </tr>\n",
       "    <tr>\n",
       "      <th>595</th>\n",
       "      <td>2019-01</td>\n",
       "      <td>우이신설선</td>\n",
       "      <td>4711</td>\n",
       "      <td>성신여대입구(돈암)</td>\n",
       "      <td>77040</td>\n",
       "      <td>89799</td>\n",
       "      <td>31555</td>\n",
       "      <td>29648</td>\n",
       "    </tr>\n",
       "    <tr>\n",
       "      <th>596</th>\n",
       "      <td>2019-01</td>\n",
       "      <td>우이신설선</td>\n",
       "      <td>4712</td>\n",
       "      <td>보문</td>\n",
       "      <td>31502</td>\n",
       "      <td>32724</td>\n",
       "      <td>15900</td>\n",
       "      <td>16109</td>\n",
       "    </tr>\n",
       "    <tr>\n",
       "      <th>597</th>\n",
       "      <td>2019-01</td>\n",
       "      <td>우이신설선</td>\n",
       "      <td>4713</td>\n",
       "      <td>신설동</td>\n",
       "      <td>37248</td>\n",
       "      <td>40743</td>\n",
       "      <td>19037</td>\n",
       "      <td>17418</td>\n",
       "    </tr>\n",
       "  </tbody>\n",
       "</table>\n",
       "<p>598 rows × 8 columns</p>\n",
       "</div>"
      ],
      "text/plain": [
       "         사용월    호선명   역ID        지하철역     유임승차     유임하차    무임승차    무임하차\n",
       "0    2019-01    1호선   150         서울역  1516452  1400464  221180  211764\n",
       "1    2019-01    1호선   151          시청   676932   676266  102388  101033\n",
       "2    2019-01    1호선   152          종각  1240810  1177643  162410  152062\n",
       "3    2019-01    1호선   153        종로3가   703110   674148  387062  362735\n",
       "4    2019-01    1호선   154        종로5가   571824   583955  275447  263687\n",
       "..       ...    ...   ...         ...      ...      ...     ...     ...\n",
       "593  2019-01  우이신설선  4709      북한산보국문   131839   117790   40396   40629\n",
       "594  2019-01  우이신설선  4710          정릉    83527    73090   43457   41092\n",
       "595  2019-01  우이신설선  4711  성신여대입구(돈암)    77040    89799   31555   29648\n",
       "596  2019-01  우이신설선  4712          보문    31502    32724   15900   16109\n",
       "597  2019-01  우이신설선  4713         신설동    37248    40743   19037   17418\n",
       "\n",
       "[598 rows x 8 columns]"
      ]
     },
     "execution_count": 174,
     "metadata": {},
     "output_type": "execute_result"
    }
   ],
   "source": [
    "#1\n",
    "\n",
    "df = pd.read_csv(\"data/subwayfee.csv\",encoding='cp949',dtype={\"유임승차\":int,\"무임승차\":int,\"유임하차\":int,\"무임하차\":int})\n",
    "df"
   ]
  },
  {
   "cell_type": "code",
   "execution_count": 172,
   "id": "4e9b41a4",
   "metadata": {},
   "outputs": [
    {
     "name": "stdout",
     "output_type": "stream",
     "text": [
      "사용월        object\n",
      "호선명        object\n",
      "역ID         int64\n",
      "지하철역       object\n",
      "유임승차        int64\n",
      "유임하차        int64\n",
      "무임승차        int64\n",
      "무임하차        int64\n",
      "승차비율      float64\n",
      "유임승차비율    float64\n",
      "dtype: object\n"
     ]
    }
   ],
   "source": [
    "print(df.dtypes)"
   ]
  },
  {
   "cell_type": "code",
   "execution_count": 190,
   "id": "39c29fee",
   "metadata": {},
   "outputs": [
    {
     "data": {
      "text/html": [
       "<div>\n",
       "<style scoped>\n",
       "    .dataframe tbody tr th:only-of-type {\n",
       "        vertical-align: middle;\n",
       "    }\n",
       "\n",
       "    .dataframe tbody tr th {\n",
       "        vertical-align: top;\n",
       "    }\n",
       "\n",
       "    .dataframe thead th {\n",
       "        text-align: right;\n",
       "    }\n",
       "</style>\n",
       "<table border=\"1\" class=\"dataframe\">\n",
       "  <thead>\n",
       "    <tr style=\"text-align: right;\">\n",
       "      <th></th>\n",
       "      <th>사용월</th>\n",
       "      <th>호선명</th>\n",
       "      <th>역ID</th>\n",
       "      <th>지하철역</th>\n",
       "      <th>유임승차</th>\n",
       "      <th>유임하차</th>\n",
       "      <th>무임승차</th>\n",
       "      <th>무임하차</th>\n",
       "      <th>유임승차비율</th>\n",
       "    </tr>\n",
       "  </thead>\n",
       "  <tbody>\n",
       "    <tr>\n",
       "      <th>0</th>\n",
       "      <td>2019-01</td>\n",
       "      <td>1호선</td>\n",
       "      <td>150</td>\n",
       "      <td>서울역</td>\n",
       "      <td>1516452</td>\n",
       "      <td>1400464</td>\n",
       "      <td>221180</td>\n",
       "      <td>211764</td>\n",
       "      <td>0.87</td>\n",
       "    </tr>\n",
       "    <tr>\n",
       "      <th>1</th>\n",
       "      <td>2019-01</td>\n",
       "      <td>1호선</td>\n",
       "      <td>151</td>\n",
       "      <td>시청</td>\n",
       "      <td>676932</td>\n",
       "      <td>676266</td>\n",
       "      <td>102388</td>\n",
       "      <td>101033</td>\n",
       "      <td>0.87</td>\n",
       "    </tr>\n",
       "    <tr>\n",
       "      <th>2</th>\n",
       "      <td>2019-01</td>\n",
       "      <td>1호선</td>\n",
       "      <td>152</td>\n",
       "      <td>종각</td>\n",
       "      <td>1240810</td>\n",
       "      <td>1177643</td>\n",
       "      <td>162410</td>\n",
       "      <td>152062</td>\n",
       "      <td>0.88</td>\n",
       "    </tr>\n",
       "    <tr>\n",
       "      <th>3</th>\n",
       "      <td>2019-01</td>\n",
       "      <td>1호선</td>\n",
       "      <td>153</td>\n",
       "      <td>종로3가</td>\n",
       "      <td>703110</td>\n",
       "      <td>674148</td>\n",
       "      <td>387062</td>\n",
       "      <td>362735</td>\n",
       "      <td>0.64</td>\n",
       "    </tr>\n",
       "    <tr>\n",
       "      <th>4</th>\n",
       "      <td>2019-01</td>\n",
       "      <td>1호선</td>\n",
       "      <td>154</td>\n",
       "      <td>종로5가</td>\n",
       "      <td>571824</td>\n",
       "      <td>583955</td>\n",
       "      <td>275447</td>\n",
       "      <td>263687</td>\n",
       "      <td>0.67</td>\n",
       "    </tr>\n",
       "    <tr>\n",
       "      <th>...</th>\n",
       "      <td>...</td>\n",
       "      <td>...</td>\n",
       "      <td>...</td>\n",
       "      <td>...</td>\n",
       "      <td>...</td>\n",
       "      <td>...</td>\n",
       "      <td>...</td>\n",
       "      <td>...</td>\n",
       "      <td>...</td>\n",
       "    </tr>\n",
       "    <tr>\n",
       "      <th>593</th>\n",
       "      <td>2019-01</td>\n",
       "      <td>우이신설선</td>\n",
       "      <td>4709</td>\n",
       "      <td>북한산보국문</td>\n",
       "      <td>131839</td>\n",
       "      <td>117790</td>\n",
       "      <td>40396</td>\n",
       "      <td>40629</td>\n",
       "      <td>0.77</td>\n",
       "    </tr>\n",
       "    <tr>\n",
       "      <th>594</th>\n",
       "      <td>2019-01</td>\n",
       "      <td>우이신설선</td>\n",
       "      <td>4710</td>\n",
       "      <td>정릉</td>\n",
       "      <td>83527</td>\n",
       "      <td>73090</td>\n",
       "      <td>43457</td>\n",
       "      <td>41092</td>\n",
       "      <td>0.66</td>\n",
       "    </tr>\n",
       "    <tr>\n",
       "      <th>595</th>\n",
       "      <td>2019-01</td>\n",
       "      <td>우이신설선</td>\n",
       "      <td>4711</td>\n",
       "      <td>성신여대입구(돈암)</td>\n",
       "      <td>77040</td>\n",
       "      <td>89799</td>\n",
       "      <td>31555</td>\n",
       "      <td>29648</td>\n",
       "      <td>0.71</td>\n",
       "    </tr>\n",
       "    <tr>\n",
       "      <th>596</th>\n",
       "      <td>2019-01</td>\n",
       "      <td>우이신설선</td>\n",
       "      <td>4712</td>\n",
       "      <td>보문</td>\n",
       "      <td>31502</td>\n",
       "      <td>32724</td>\n",
       "      <td>15900</td>\n",
       "      <td>16109</td>\n",
       "      <td>0.66</td>\n",
       "    </tr>\n",
       "    <tr>\n",
       "      <th>597</th>\n",
       "      <td>2019-01</td>\n",
       "      <td>우이신설선</td>\n",
       "      <td>4713</td>\n",
       "      <td>신설동</td>\n",
       "      <td>37248</td>\n",
       "      <td>40743</td>\n",
       "      <td>19037</td>\n",
       "      <td>17418</td>\n",
       "      <td>0.66</td>\n",
       "    </tr>\n",
       "  </tbody>\n",
       "</table>\n",
       "<p>598 rows × 9 columns</p>\n",
       "</div>"
      ],
      "text/plain": [
       "         사용월    호선명   역ID        지하철역     유임승차     유임하차    무임승차    무임하차  \\\n",
       "0    2019-01    1호선   150         서울역  1516452  1400464  221180  211764   \n",
       "1    2019-01    1호선   151          시청   676932   676266  102388  101033   \n",
       "2    2019-01    1호선   152          종각  1240810  1177643  162410  152062   \n",
       "3    2019-01    1호선   153        종로3가   703110   674148  387062  362735   \n",
       "4    2019-01    1호선   154        종로5가   571824   583955  275447  263687   \n",
       "..       ...    ...   ...         ...      ...      ...     ...     ...   \n",
       "593  2019-01  우이신설선  4709      북한산보국문   131839   117790   40396   40629   \n",
       "594  2019-01  우이신설선  4710          정릉    83527    73090   43457   41092   \n",
       "595  2019-01  우이신설선  4711  성신여대입구(돈암)    77040    89799   31555   29648   \n",
       "596  2019-01  우이신설선  4712          보문    31502    32724   15900   16109   \n",
       "597  2019-01  우이신설선  4713         신설동    37248    40743   19037   17418   \n",
       "\n",
       "     유임승차비율  \n",
       "0      0.87  \n",
       "1      0.87  \n",
       "2      0.88  \n",
       "3      0.64  \n",
       "4      0.67  \n",
       "..      ...  \n",
       "593    0.77  \n",
       "594    0.66  \n",
       "595    0.71  \n",
       "596    0.66  \n",
       "597    0.66  \n",
       "\n",
       "[598 rows x 9 columns]"
      ]
     },
     "execution_count": 190,
     "metadata": {},
     "output_type": "execute_result"
    }
   ],
   "source": [
    "df['유임승차비율']=df['유임승차']/(df['유임승차']+df['무임승차'])\n",
    "df['유임승차비율']=df.유임승차비율.round(2)\n",
    "df"
   ]
  },
  {
   "cell_type": "code",
   "execution_count": 217,
   "id": "efa2a9d8",
   "metadata": {},
   "outputs": [
    {
     "data": {
      "text/html": [
       "<div>\n",
       "<style scoped>\n",
       "    .dataframe tbody tr th:only-of-type {\n",
       "        vertical-align: middle;\n",
       "    }\n",
       "\n",
       "    .dataframe tbody tr th {\n",
       "        vertical-align: top;\n",
       "    }\n",
       "\n",
       "    .dataframe thead th {\n",
       "        text-align: right;\n",
       "    }\n",
       "</style>\n",
       "<table border=\"1\" class=\"dataframe\">\n",
       "  <thead>\n",
       "    <tr style=\"text-align: right;\">\n",
       "      <th></th>\n",
       "      <th>사용월</th>\n",
       "      <th>호선명</th>\n",
       "      <th>역ID</th>\n",
       "      <th>지하철역</th>\n",
       "      <th>유임승차</th>\n",
       "      <th>유임하차</th>\n",
       "      <th>무임승차</th>\n",
       "      <th>무임하차</th>\n",
       "      <th>유임승차비율</th>\n",
       "    </tr>\n",
       "  </thead>\n",
       "  <tbody>\n",
       "    <tr>\n",
       "      <th>0</th>\n",
       "      <td>2019-01</td>\n",
       "      <td>1호선</td>\n",
       "      <td>150</td>\n",
       "      <td>서울역</td>\n",
       "      <td>1516452</td>\n",
       "      <td>1400464</td>\n",
       "      <td>221180</td>\n",
       "      <td>211764</td>\n",
       "      <td>0.87</td>\n",
       "    </tr>\n",
       "    <tr>\n",
       "      <th>1</th>\n",
       "      <td>2019-01</td>\n",
       "      <td>1호선</td>\n",
       "      <td>151</td>\n",
       "      <td>시청</td>\n",
       "      <td>676932</td>\n",
       "      <td>676266</td>\n",
       "      <td>102388</td>\n",
       "      <td>101033</td>\n",
       "      <td>0.87</td>\n",
       "    </tr>\n",
       "    <tr>\n",
       "      <th>2</th>\n",
       "      <td>2019-01</td>\n",
       "      <td>1호선</td>\n",
       "      <td>152</td>\n",
       "      <td>종각</td>\n",
       "      <td>1240810</td>\n",
       "      <td>1177643</td>\n",
       "      <td>162410</td>\n",
       "      <td>152062</td>\n",
       "      <td>0.88</td>\n",
       "    </tr>\n",
       "    <tr>\n",
       "      <th>3</th>\n",
       "      <td>2019-01</td>\n",
       "      <td>1호선</td>\n",
       "      <td>153</td>\n",
       "      <td>종로3가</td>\n",
       "      <td>703110</td>\n",
       "      <td>674148</td>\n",
       "      <td>387062</td>\n",
       "      <td>362735</td>\n",
       "      <td>0.64</td>\n",
       "    </tr>\n",
       "    <tr>\n",
       "      <th>4</th>\n",
       "      <td>2019-01</td>\n",
       "      <td>1호선</td>\n",
       "      <td>154</td>\n",
       "      <td>종로5가</td>\n",
       "      <td>571824</td>\n",
       "      <td>583955</td>\n",
       "      <td>275447</td>\n",
       "      <td>263687</td>\n",
       "      <td>0.67</td>\n",
       "    </tr>\n",
       "    <tr>\n",
       "      <th>...</th>\n",
       "      <td>...</td>\n",
       "      <td>...</td>\n",
       "      <td>...</td>\n",
       "      <td>...</td>\n",
       "      <td>...</td>\n",
       "      <td>...</td>\n",
       "      <td>...</td>\n",
       "      <td>...</td>\n",
       "      <td>...</td>\n",
       "    </tr>\n",
       "    <tr>\n",
       "      <th>593</th>\n",
       "      <td>2019-01</td>\n",
       "      <td>우이신설선</td>\n",
       "      <td>4709</td>\n",
       "      <td>북한산보국문</td>\n",
       "      <td>131839</td>\n",
       "      <td>117790</td>\n",
       "      <td>40396</td>\n",
       "      <td>40629</td>\n",
       "      <td>0.77</td>\n",
       "    </tr>\n",
       "    <tr>\n",
       "      <th>594</th>\n",
       "      <td>2019-01</td>\n",
       "      <td>우이신설선</td>\n",
       "      <td>4710</td>\n",
       "      <td>정릉</td>\n",
       "      <td>83527</td>\n",
       "      <td>73090</td>\n",
       "      <td>43457</td>\n",
       "      <td>41092</td>\n",
       "      <td>0.66</td>\n",
       "    </tr>\n",
       "    <tr>\n",
       "      <th>595</th>\n",
       "      <td>2019-01</td>\n",
       "      <td>우이신설선</td>\n",
       "      <td>4711</td>\n",
       "      <td>성신여대입구(돈암)</td>\n",
       "      <td>77040</td>\n",
       "      <td>89799</td>\n",
       "      <td>31555</td>\n",
       "      <td>29648</td>\n",
       "      <td>0.71</td>\n",
       "    </tr>\n",
       "    <tr>\n",
       "      <th>596</th>\n",
       "      <td>2019-01</td>\n",
       "      <td>우이신설선</td>\n",
       "      <td>4712</td>\n",
       "      <td>보문</td>\n",
       "      <td>31502</td>\n",
       "      <td>32724</td>\n",
       "      <td>15900</td>\n",
       "      <td>16109</td>\n",
       "      <td>0.66</td>\n",
       "    </tr>\n",
       "    <tr>\n",
       "      <th>597</th>\n",
       "      <td>2019-01</td>\n",
       "      <td>우이신설선</td>\n",
       "      <td>4713</td>\n",
       "      <td>신설동</td>\n",
       "      <td>37248</td>\n",
       "      <td>40743</td>\n",
       "      <td>19037</td>\n",
       "      <td>17418</td>\n",
       "      <td>0.66</td>\n",
       "    </tr>\n",
       "  </tbody>\n",
       "</table>\n",
       "<p>590 rows × 9 columns</p>\n",
       "</div>"
      ],
      "text/plain": [
       "         사용월    호선명   역ID        지하철역     유임승차     유임하차    무임승차    무임하차  \\\n",
       "0    2019-01    1호선   150         서울역  1516452  1400464  221180  211764   \n",
       "1    2019-01    1호선   151          시청   676932   676266  102388  101033   \n",
       "2    2019-01    1호선   152          종각  1240810  1177643  162410  152062   \n",
       "3    2019-01    1호선   153        종로3가   703110   674148  387062  362735   \n",
       "4    2019-01    1호선   154        종로5가   571824   583955  275447  263687   \n",
       "..       ...    ...   ...         ...      ...      ...     ...     ...   \n",
       "593  2019-01  우이신설선  4709      북한산보국문   131839   117790   40396   40629   \n",
       "594  2019-01  우이신설선  4710          정릉    83527    73090   43457   41092   \n",
       "595  2019-01  우이신설선  4711  성신여대입구(돈암)    77040    89799   31555   29648   \n",
       "596  2019-01  우이신설선  4712          보문    31502    32724   15900   16109   \n",
       "597  2019-01  우이신설선  4713         신설동    37248    40743   19037   17418   \n",
       "\n",
       "     유임승차비율  \n",
       "0      0.87  \n",
       "1      0.87  \n",
       "2      0.88  \n",
       "3      0.64  \n",
       "4      0.67  \n",
       "..      ...  \n",
       "593    0.77  \n",
       "594    0.66  \n",
       "595    0.71  \n",
       "596    0.66  \n",
       "597    0.66  \n",
       "\n",
       "[590 rows x 9 columns]"
      ]
     },
     "execution_count": 217,
     "metadata": {},
     "output_type": "execute_result"
    }
   ],
   "source": [
    "df2=df.drop(index=df[df['무임승차']==0].index)\n",
    "df2"
   ]
  },
  {
   "cell_type": "code",
   "execution_count": 218,
   "id": "8fc131a3",
   "metadata": {},
   "outputs": [
    {
     "data": {
      "text/html": [
       "<div>\n",
       "<style scoped>\n",
       "    .dataframe tbody tr th:only-of-type {\n",
       "        vertical-align: middle;\n",
       "    }\n",
       "\n",
       "    .dataframe tbody tr th {\n",
       "        vertical-align: top;\n",
       "    }\n",
       "\n",
       "    .dataframe thead th {\n",
       "        text-align: right;\n",
       "    }\n",
       "</style>\n",
       "<table border=\"1\" class=\"dataframe\">\n",
       "  <thead>\n",
       "    <tr style=\"text-align: right;\">\n",
       "      <th></th>\n",
       "      <th>사용월</th>\n",
       "      <th>호선명</th>\n",
       "      <th>역ID</th>\n",
       "      <th>지하철역</th>\n",
       "      <th>유임승차</th>\n",
       "      <th>유임하차</th>\n",
       "      <th>무임승차</th>\n",
       "      <th>무임하차</th>\n",
       "      <th>유임승차비율</th>\n",
       "    </tr>\n",
       "  </thead>\n",
       "  <tbody>\n",
       "    <tr>\n",
       "      <th>72</th>\n",
       "      <td>2019-01</td>\n",
       "      <td>3호선</td>\n",
       "      <td>321</td>\n",
       "      <td>충무로</td>\n",
       "      <td>55</td>\n",
       "      <td>0</td>\n",
       "      <td>2</td>\n",
       "      <td>0</td>\n",
       "      <td>0.96</td>\n",
       "    </tr>\n",
       "  </tbody>\n",
       "</table>\n",
       "</div>"
      ],
      "text/plain": [
       "        사용월  호선명  역ID 지하철역  유임승차  유임하차  무임승차  무임하차  유임승차비율\n",
       "72  2019-01  3호선  321  충무로    55     0     2     0    0.96"
      ]
     },
     "execution_count": 218,
     "metadata": {},
     "output_type": "execute_result"
    }
   ],
   "source": [
    "df2.sort_values(by='유임승차비율',ascending=False).head(1)"
   ]
  },
  {
   "cell_type": "code",
   "execution_count": 219,
   "id": "c23147e0",
   "metadata": {},
   "outputs": [
    {
     "name": "stdout",
     "output_type": "stream",
     "text": [
      "        사용월  호선명  역ID 지하철역  유임승차  유임하차  무임승차  무임하차  유임승차비율\n",
      "72  2019-01  3호선  321  충무로    55     0     2     0    0.96\n"
     ]
    }
   ],
   "source": [
    "print(df2[df2['유임승차비율']==df2['유임승차비율'].max()])"
   ]
  },
  {
   "cell_type": "code",
   "execution_count": 226,
   "id": "dba62651",
   "metadata": {},
   "outputs": [
    {
     "data": {
      "text/html": [
       "<div>\n",
       "<style scoped>\n",
       "    .dataframe tbody tr th:only-of-type {\n",
       "        vertical-align: middle;\n",
       "    }\n",
       "\n",
       "    .dataframe tbody tr th {\n",
       "        vertical-align: top;\n",
       "    }\n",
       "\n",
       "    .dataframe thead th {\n",
       "        text-align: right;\n",
       "    }\n",
       "</style>\n",
       "<table border=\"1\" class=\"dataframe\">\n",
       "  <thead>\n",
       "    <tr style=\"text-align: right;\">\n",
       "      <th></th>\n",
       "      <th>사용월</th>\n",
       "      <th>호선명</th>\n",
       "      <th>역ID</th>\n",
       "      <th>지하철역</th>\n",
       "      <th>유임승차</th>\n",
       "      <th>유임하차</th>\n",
       "      <th>무임승차</th>\n",
       "      <th>무임하차</th>\n",
       "      <th>유임승차비율</th>\n",
       "    </tr>\n",
       "  </thead>\n",
       "  <tbody>\n",
       "    <tr>\n",
       "      <th>0</th>\n",
       "      <td>2019-01</td>\n",
       "      <td>1호선</td>\n",
       "      <td>150</td>\n",
       "      <td>서울역</td>\n",
       "      <td>1516452</td>\n",
       "      <td>1400464</td>\n",
       "      <td>221180</td>\n",
       "      <td>211764</td>\n",
       "      <td>0.87</td>\n",
       "    </tr>\n",
       "    <tr>\n",
       "      <th>1</th>\n",
       "      <td>2019-01</td>\n",
       "      <td>1호선</td>\n",
       "      <td>151</td>\n",
       "      <td>시청</td>\n",
       "      <td>676932</td>\n",
       "      <td>676266</td>\n",
       "      <td>102388</td>\n",
       "      <td>101033</td>\n",
       "      <td>0.87</td>\n",
       "    </tr>\n",
       "    <tr>\n",
       "      <th>2</th>\n",
       "      <td>2019-01</td>\n",
       "      <td>1호선</td>\n",
       "      <td>152</td>\n",
       "      <td>종각</td>\n",
       "      <td>1240810</td>\n",
       "      <td>1177643</td>\n",
       "      <td>162410</td>\n",
       "      <td>152062</td>\n",
       "      <td>0.88</td>\n",
       "    </tr>\n",
       "    <tr>\n",
       "      <th>3</th>\n",
       "      <td>2019-01</td>\n",
       "      <td>1호선</td>\n",
       "      <td>153</td>\n",
       "      <td>종로3가</td>\n",
       "      <td>703110</td>\n",
       "      <td>674148</td>\n",
       "      <td>387062</td>\n",
       "      <td>362735</td>\n",
       "      <td>0.64</td>\n",
       "    </tr>\n",
       "    <tr>\n",
       "      <th>4</th>\n",
       "      <td>2019-01</td>\n",
       "      <td>1호선</td>\n",
       "      <td>154</td>\n",
       "      <td>종로5가</td>\n",
       "      <td>571824</td>\n",
       "      <td>583955</td>\n",
       "      <td>275447</td>\n",
       "      <td>263687</td>\n",
       "      <td>0.67</td>\n",
       "    </tr>\n",
       "    <tr>\n",
       "      <th>...</th>\n",
       "      <td>...</td>\n",
       "      <td>...</td>\n",
       "      <td>...</td>\n",
       "      <td>...</td>\n",
       "      <td>...</td>\n",
       "      <td>...</td>\n",
       "      <td>...</td>\n",
       "      <td>...</td>\n",
       "      <td>...</td>\n",
       "    </tr>\n",
       "    <tr>\n",
       "      <th>579</th>\n",
       "      <td>2019-01</td>\n",
       "      <td>9호선2~3단계</td>\n",
       "      <td>4133</td>\n",
       "      <td>석촌</td>\n",
       "      <td>134697</td>\n",
       "      <td>99683</td>\n",
       "      <td>24074</td>\n",
       "      <td>18577</td>\n",
       "      <td>0.85</td>\n",
       "    </tr>\n",
       "    <tr>\n",
       "      <th>582</th>\n",
       "      <td>2019-01</td>\n",
       "      <td>9호선2~3단계</td>\n",
       "      <td>4136</td>\n",
       "      <td>올림픽공원(한국체대)</td>\n",
       "      <td>155506</td>\n",
       "      <td>154127</td>\n",
       "      <td>14235</td>\n",
       "      <td>14305</td>\n",
       "      <td>0.92</td>\n",
       "    </tr>\n",
       "    <tr>\n",
       "      <th>584</th>\n",
       "      <td>2019-01</td>\n",
       "      <td>9호선2~3단계</td>\n",
       "      <td>4138</td>\n",
       "      <td>중앙보훈병원</td>\n",
       "      <td>126493</td>\n",
       "      <td>113313</td>\n",
       "      <td>57402</td>\n",
       "      <td>58027</td>\n",
       "      <td>0.69</td>\n",
       "    </tr>\n",
       "    <tr>\n",
       "      <th>592</th>\n",
       "      <td>2019-01</td>\n",
       "      <td>우이신설선</td>\n",
       "      <td>4708</td>\n",
       "      <td>솔샘</td>\n",
       "      <td>133044</td>\n",
       "      <td>118786</td>\n",
       "      <td>34119</td>\n",
       "      <td>34990</td>\n",
       "      <td>0.80</td>\n",
       "    </tr>\n",
       "    <tr>\n",
       "      <th>593</th>\n",
       "      <td>2019-01</td>\n",
       "      <td>우이신설선</td>\n",
       "      <td>4709</td>\n",
       "      <td>북한산보국문</td>\n",
       "      <td>131839</td>\n",
       "      <td>117790</td>\n",
       "      <td>40396</td>\n",
       "      <td>40629</td>\n",
       "      <td>0.77</td>\n",
       "    </tr>\n",
       "  </tbody>\n",
       "</table>\n",
       "<p>441 rows × 9 columns</p>\n",
       "</div>"
      ],
      "text/plain": [
       "         사용월       호선명   역ID         지하철역     유임승차     유임하차    무임승차    무임하차  \\\n",
       "0    2019-01       1호선   150          서울역  1516452  1400464  221180  211764   \n",
       "1    2019-01       1호선   151           시청   676932   676266  102388  101033   \n",
       "2    2019-01       1호선   152           종각  1240810  1177643  162410  152062   \n",
       "3    2019-01       1호선   153         종로3가   703110   674148  387062  362735   \n",
       "4    2019-01       1호선   154         종로5가   571824   583955  275447  263687   \n",
       "..       ...       ...   ...          ...      ...      ...     ...     ...   \n",
       "579  2019-01  9호선2~3단계  4133           석촌   134697    99683   24074   18577   \n",
       "582  2019-01  9호선2~3단계  4136  올림픽공원(한국체대)   155506   154127   14235   14305   \n",
       "584  2019-01  9호선2~3단계  4138       중앙보훈병원   126493   113313   57402   58027   \n",
       "592  2019-01     우이신설선  4708           솔샘   133044   118786   34119   34990   \n",
       "593  2019-01     우이신설선  4709       북한산보국문   131839   117790   40396   40629   \n",
       "\n",
       "     유임승차비율  \n",
       "0      0.87  \n",
       "1      0.87  \n",
       "2      0.88  \n",
       "3      0.64  \n",
       "4      0.67  \n",
       "..      ...  \n",
       "579    0.85  \n",
       "582    0.92  \n",
       "584    0.69  \n",
       "592    0.80  \n",
       "593    0.77  \n",
       "\n",
       "[441 rows x 9 columns]"
      ]
     },
     "execution_count": 226,
     "metadata": {},
     "output_type": "execute_result"
    }
   ],
   "source": [
    "df3= df2[df2['유임승차'] >= 100000]\n",
    "df3"
   ]
  },
  {
   "cell_type": "code",
   "execution_count": 239,
   "id": "64b3a88d",
   "metadata": {},
   "outputs": [
    {
     "data": {
      "text/html": [
       "<div>\n",
       "<style scoped>\n",
       "    .dataframe tbody tr th:only-of-type {\n",
       "        vertical-align: middle;\n",
       "    }\n",
       "\n",
       "    .dataframe tbody tr th {\n",
       "        vertical-align: top;\n",
       "    }\n",
       "\n",
       "    .dataframe thead th {\n",
       "        text-align: right;\n",
       "    }\n",
       "</style>\n",
       "<table border=\"1\" class=\"dataframe\">\n",
       "  <thead>\n",
       "    <tr style=\"text-align: right;\">\n",
       "      <th></th>\n",
       "      <th>사용월</th>\n",
       "      <th>호선명</th>\n",
       "      <th>역ID</th>\n",
       "      <th>지하철역</th>\n",
       "      <th>유임승차</th>\n",
       "      <th>유임하차</th>\n",
       "      <th>무임승차</th>\n",
       "      <th>무임하차</th>\n",
       "      <th>유임승차비율</th>\n",
       "    </tr>\n",
       "  </thead>\n",
       "  <tbody>\n",
       "    <tr>\n",
       "      <th>560</th>\n",
       "      <td>2019-01</td>\n",
       "      <td>공항철도 1호선</td>\n",
       "      <td>4203</td>\n",
       "      <td>홍대입구</td>\n",
       "      <td>336328</td>\n",
       "      <td>335507</td>\n",
       "      <td>17545</td>\n",
       "      <td>17112</td>\n",
       "      <td>0.95</td>\n",
       "    </tr>\n",
       "    <tr>\n",
       "      <th>120</th>\n",
       "      <td>2019-01</td>\n",
       "      <td>경부선</td>\n",
       "      <td>1001</td>\n",
       "      <td>서울역</td>\n",
       "      <td>178223</td>\n",
       "      <td>29980</td>\n",
       "      <td>10325</td>\n",
       "      <td>1612</td>\n",
       "      <td>0.95</td>\n",
       "    </tr>\n",
       "    <tr>\n",
       "      <th>48</th>\n",
       "      <td>2019-01</td>\n",
       "      <td>2호선</td>\n",
       "      <td>239</td>\n",
       "      <td>홍대입구</td>\n",
       "      <td>2351935</td>\n",
       "      <td>2507561</td>\n",
       "      <td>114832</td>\n",
       "      <td>111488</td>\n",
       "      <td>0.95</td>\n",
       "    </tr>\n",
       "    <tr>\n",
       "      <th>566</th>\n",
       "      <td>2019-01</td>\n",
       "      <td>공항철도 1호선</td>\n",
       "      <td>4210</td>\n",
       "      <td>청라국제도시</td>\n",
       "      <td>174320</td>\n",
       "      <td>164483</td>\n",
       "      <td>9921</td>\n",
       "      <td>9676</td>\n",
       "      <td>0.95</td>\n",
       "    </tr>\n",
       "    <tr>\n",
       "      <th>557</th>\n",
       "      <td>2019-01</td>\n",
       "      <td>9호선</td>\n",
       "      <td>4125</td>\n",
       "      <td>신논현</td>\n",
       "      <td>965930</td>\n",
       "      <td>995451</td>\n",
       "      <td>57013</td>\n",
       "      <td>54557</td>\n",
       "      <td>0.94</td>\n",
       "    </tr>\n",
       "  </tbody>\n",
       "</table>\n",
       "</div>"
      ],
      "text/plain": [
       "         사용월       호선명   역ID    지하철역     유임승차     유임하차    무임승차    무임하차  유임승차비율\n",
       "560  2019-01  공항철도 1호선  4203    홍대입구   336328   335507   17545   17112    0.95\n",
       "120  2019-01       경부선  1001     서울역   178223    29980   10325    1612    0.95\n",
       "48   2019-01       2호선   239    홍대입구  2351935  2507561  114832  111488    0.95\n",
       "566  2019-01  공항철도 1호선  4210  청라국제도시   174320   164483    9921    9676    0.95\n",
       "557  2019-01       9호선  4125     신논현   965930   995451   57013   54557    0.94"
      ]
     },
     "execution_count": 239,
     "metadata": {},
     "output_type": "execute_result"
    }
   ],
   "source": [
    "df3.sort_values(by='유임승차비율',ascending=False).head()"
   ]
  },
  {
   "cell_type": "code",
   "execution_count": 233,
   "id": "f49381c7",
   "metadata": {},
   "outputs": [
    {
     "name": "stdout",
     "output_type": "stream",
     "text": [
      "         사용월       호선명   역ID    지하철역     유임승차     유임하차    무임승차    무임하차  유임승차비율\n",
      "48   2019-01       2호선   239    홍대입구  2351935  2507561  114832  111488    0.95\n",
      "120  2019-01       경부선  1001     서울역   178223    29980   10325    1612    0.95\n",
      "560  2019-01  공항철도 1호선  4203    홍대입구   336328   335507   17545   17112    0.95\n",
      "566  2019-01  공항철도 1호선  4210  청라국제도시   174320   164483    9921    9676    0.95\n"
     ]
    }
   ],
   "source": [
    "print(df3[df3['유임승차비율']==df3['유임승차비율'].max()])"
   ]
  },
  {
   "cell_type": "code",
   "execution_count": 240,
   "id": "054f7555",
   "metadata": {},
   "outputs": [
    {
     "name": "stdout",
     "output_type": "stream",
     "text": [
      "       사용월  호선명  역ID 지하철역    유임승차    유임하차    무임승차    무임하차  유임승차비율\n",
      "7  2019-01  1호선  157  제기동  293540  288217  374571  400607    0.44\n"
     ]
    }
   ],
   "source": [
    "print(df3[df3['유임승차비율']==df3['유임승차비율'].min()])"
   ]
  },
  {
   "cell_type": "code",
   "execution_count": 241,
   "id": "5b5d5665",
   "metadata": {},
   "outputs": [
    {
     "data": {
      "text/plain": [
       "사용월         2019-01\n",
       "호선명             중앙선\n",
       "역ID            4709\n",
       "지하철역      흑석(중앙대입구)\n",
       "유임승차        3153418\n",
       "유임하차        3210437\n",
       "무임승차         387062\n",
       "무임하차         400607\n",
       "유임승차비율         0.95\n",
       "dtype: object"
      ]
     },
     "execution_count": 241,
     "metadata": {},
     "output_type": "execute_result"
    }
   ],
   "source": [
    "#제주도의 성별 인구 비율 표현하기 \n",
    "\n",
    "f = open('data/subwayfee.csv',encoding='cp949'dtype={\"유임승차\":int,\"무임승차\":int,\"유임하차\":int,\"무임하차\":int})\n",
    "data = csv.reader(f)\n",
    "\n",
    "size=[]\n",
    "seoul= []\n",
    "cityhall= [] \n",
    "\n",
    "if dong in row[0]:\n",
    "        m=0\n",
    "        f=0\n",
    "        for i in range(101):\n",
    "            m+=int(row[i+3]) #3~103까지 데이터 더하기\n",
    "            f+=int(row[i+106])#106~206까지 데이터 더하기\n",
    "\n",
    "size.append(m)\n",
    "size.append(f)\n",
    "print(size)"
   ]
  }
 ],
 "metadata": {
  "kernelspec": {
   "display_name": "Python 3 (ipykernel)",
   "language": "python",
   "name": "python3"
  },
  "language_info": {
   "codemirror_mode": {
    "name": "ipython",
    "version": 3
   },
   "file_extension": ".py",
   "mimetype": "text/x-python",
   "name": "python",
   "nbconvert_exporter": "python",
   "pygments_lexer": "ipython3",
   "version": "3.8.2"
  }
 },
 "nbformat": 4,
 "nbformat_minor": 5
}
